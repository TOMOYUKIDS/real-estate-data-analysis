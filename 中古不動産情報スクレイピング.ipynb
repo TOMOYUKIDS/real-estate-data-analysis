{
 "cells": [
  {
   "cell_type": "markdown",
   "metadata": {},
   "source": [
    "# SUUMOから中古不動産価格情報を収集する"
   ]
  },
  {
   "cell_type": "code",
   "execution_count": 467,
   "metadata": {},
   "outputs": [],
   "source": [
    "import requests\n",
    "from bs4 import BeautifulSoup\n",
    "import time\n",
    "import pandas as pd\n",
    "import re\n"
   ]
  },
  {
   "cell_type": "code",
   "execution_count": null,
   "metadata": {},
   "outputs": [],
   "source": [
    "# SUUMO 中古マンション　不動産情報　埼玉県全域\n",
    "url = 'https://suumo.jp/jj/bukken/ichiran/JJ010FJ001/?ar=030&bs=011&ta=11&jspIdFlg=patternShikugun&sc=11102&sc=11103&sc=11104&sc=11105&sc=11106&sc=11107&sc=11108&sc=11109&sc=11110&sc=11201&sc=11202&sc=11203&sc=11206&sc=11208&sc=11209&sc=11210&sc=11211&sc=11212&sc=11214&sc=11215&sc=11217&sc=11218&sc=11219&sc=11221&sc=11222&sc=11223&sc=11224&sc=11225&sc=11227&sc=11228&sc=11229&sc=11230&sc=11231&sc=11232&sc=11233&sc=11234&sc=11235&sc=11237&sc=11238&sc=11239&sc=11240&sc=11241&sc=11243&sc=11245&sc=11246&sc=11300&sc=11320&sc=11340&sc=11440&sc=11460&kb=1&kt=9999999&mb=0&mt=9999999&ekTjCd=&ekTjNm=&tj=0&cnb=0&cn=9999999'\n",
    "\n",
    "result = requests.get(url)\n",
    "c = result.content\n",
    "soup = BeautifulSoup(c, \"html.parser\")\n",
    "\n",
    "# ページ数を取得\n",
    "body = soup.find(\"body\")\n",
    "pages = body.find_all(\"div\", {'class':'pagination pagination_set-nav'})\n",
    "pages_text = str(pages)\n",
    "pages_split = pages_text.split('</a></li>\\n</ol>')\n",
    "num_pages = int(pages_split[0].split('>')[-1])\n",
    "print(\"ページ数＝\",num_pages)\n",
    "\n",
    "# 全てのページのURLを作成\n",
    "# urlを入れる箱（リスト）を設定\n",
    "urls = []\n",
    "\n",
    "# 1ページ目を格納\n",
    "urls.append(url)\n",
    "\n",
    "# 2ページ目以降を格納\n",
    "for i in range(num_pages-1):\n",
    "    pg = str(i+2)\n",
    "    url_page = url + '&pn=' + pg\n",
    "    urls.append(url_page)\n",
    "\n",
    "data = []\n",
    "for url in urls:\n",
    "    print(url)\n",
    "    result = requests.get(url)\n",
    "    c = result.content\n",
    "    soup = BeautifulSoup(c, \"html.parser\")\n",
    "    summary = soup.find(\"div\",{'id':'js-bukkenList'})\n",
    "    cassetteitems = summary.find_all(\"div\",{'class':'dottable dottable--cassette'})\n",
    "    for cas in cassetteitems:\n",
    "        try:\n",
    "            # 情報取得用の箱を準備します。\n",
    "            subtitle = '' # 物件名\n",
    "            location = '' # 住所\n",
    "            station = ''   # 最寄駅（リスト）\n",
    "            yrs = ''     # 築年数\n",
    "            value = ''    # 価格\n",
    "            floor_plan = ''  # 間取り\n",
    "            area = 0    # 面積\n",
    "            balcony = 0   #バルコニーの広さ\n",
    "            thumb = ''  #物件のURL\n",
    "            \n",
    "            # 物件名\n",
    "            subtitle = cas.find_all(\"dd\", \"dottable-vm\")[0].string\n",
    "            print(subtitle)\n",
    "            # 住所\n",
    "            location = cas.find_all(\"dd\")[2].string\n",
    "            # 最寄駅\n",
    "            station = cas.find_all(\"dd\")[3].string\n",
    "            # 築年数\n",
    "            yrs = cas.find_all(\"table\", class_=\"dottable-fix\")[1].select(\"dd\")[1].string\n",
    "            #価格\n",
    "            value = cas.find_all(\"span\", class_=\"dottable-value\")[0].string\n",
    "            # 間取り\n",
    "            floor_plan = cas.find(\"table\", \"dottable-fix\").select(\"dd\")[1].string\n",
    "            #面積\n",
    "            area = cas.find(\"table\", \"dottable-fix\").select(\"dd\")[0].text\n",
    "            #バルコニーの広さ\n",
    "            balcony = cas.find_all(\"table\", \"dottable-fix\")[1].select(\"dd\")[0].text\n",
    "            data.append([subtitle, location, station, yrs, value, floor_plan, area, balcony])\n",
    "                \n",
    "\n",
    "    time.sleep(1) # スクレイピングする際の礼儀として、1秒待ちましょう\n",
    "\n",
    "print(data)\n",
    "    # data listを DataFrameに変換\n",
    "df = pd.DataFrame(data, columns=['物件名','住所','最寄り駅','築年数', '価格','間取り','面積','バルコニーの広さ'])\n",
    "\n",
    "# csvファイルとして保存\n",
    "df.to_csv('data/suumo_bukken.csv', sep = ',',encoding='utf-8-sig')\n",
    "\n"
   ]
  },
  {
   "cell_type": "code",
   "execution_count": null,
   "metadata": {},
   "outputs": [],
   "source": []
  }
 ],
 "metadata": {
  "kernelspec": {
   "display_name": "Python 3",
   "language": "python",
   "name": "python3"
  },
  "language_info": {
   "codemirror_mode": {
    "name": "ipython",
    "version": 3
   },
   "file_extension": ".py",
   "mimetype": "text/x-python",
   "name": "python",
   "nbconvert_exporter": "python",
   "pygments_lexer": "ipython3",
   "version": "3.6.5"
  }
 },
 "nbformat": 4,
 "nbformat_minor": 2
}
